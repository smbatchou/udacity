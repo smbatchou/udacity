{
 "cells": [
  {
   "cell_type": "markdown",
   "metadata": {
    "colab_type": "text",
    "deletable": true,
    "editable": true,
    "id": "5hIbr52I7Z7U"
   },
   "source": [
    "Deep Learning\n",
    "=============\n",
    "\n",
    "Assignment 1\n",
    "------------\n",
    "\n",
    "The objective of this assignment is to learn about simple data curation practices, and familiarize you with some of the data we'll be reusing later.\n",
    "\n",
    "This notebook uses the [notMNIST](http://yaroslavvb.blogspot.com/2011/09/notmnist-dataset.html) dataset to be used with python experiments. This dataset is designed to look like the classic [MNIST](http://yann.lecun.com/exdb/mnist/) dataset, while looking a little more like real data: it's a harder task, and the data is a lot less 'clean' than MNIST."
   ]
  },
  {
   "cell_type": "code",
   "execution_count": 1,
   "metadata": {
    "cellView": "both",
    "colab": {
     "autoexec": {
      "startup": false,
      "wait_interval": 0
     }
    },
    "colab_type": "code",
    "collapsed": false,
    "deletable": true,
    "editable": true,
    "id": "apJbCsBHl-2A"
   },
   "outputs": [],
   "source": [
    "# These are all the modules we'll be using later. Make sure you can import them\n",
    "# before proceeding further.\n",
    "from __future__ import print_function\n",
    "import matplotlib.pyplot as plt\n",
    "import numpy as np\n",
    "import os\n",
    "import sys\n",
    "import tarfile\n",
    "from IPython.display import display, Image, HTML\n",
    "from scipy import ndimage\n",
    "from sklearn.linear_model import LogisticRegression\n",
    "from six.moves.urllib.request import urlretrieve\n",
    "from six.moves import cPickle as pickle\n",
    "\n",
    "# Config the matplotlib backend as plotting inline in IPython\n",
    "%matplotlib inline"
   ]
  },
  {
   "cell_type": "markdown",
   "metadata": {
    "colab_type": "text",
    "deletable": true,
    "editable": true,
    "id": "jNWGtZaXn-5j"
   },
   "source": [
    "First, we'll download the dataset to our local machine. The data consists of characters rendered in a variety of fonts on a 28x28 image. The labels are limited to 'A' through 'J' (10 classes). The training set has about 500k and the testset 19000 labelled examples. Given these sizes, it should be possible to train models quickly on any machine."
   ]
  },
  {
   "cell_type": "code",
   "execution_count": 2,
   "metadata": {
    "cellView": "both",
    "colab": {
     "autoexec": {
      "startup": false,
      "wait_interval": 0
     },
     "output_extras": [
      {
       "item_id": 1
      }
     ]
    },
    "colab_type": "code",
    "collapsed": false,
    "deletable": true,
    "editable": true,
    "executionInfo": {
     "elapsed": 186058,
     "status": "ok",
     "timestamp": 1444485672507,
     "user": {
      "color": "#1FA15D",
      "displayName": "Vincent Vanhoucke",
      "isAnonymous": false,
      "isMe": true,
      "permissionId": "05076109866853157986",
      "photoUrl": "//lh6.googleusercontent.com/-cCJa7dTDcgQ/AAAAAAAAAAI/AAAAAAAACgw/r2EZ_8oYer4/s50-c-k-no/photo.jpg",
      "sessionId": "2a0a5e044bb03b66",
      "userId": "102167687554210253930"
     },
     "user_tz": 420
    },
    "id": "EYRJ4ICW6-da",
    "outputId": "0d0f85df-155f-4a89-8e7e-ee32df36ec8d"
   },
   "outputs": [],
   "source": [
    "url = 'http://commondatastorage.googleapis.com/books1000/'\n",
    "last_percent_reported = None\n",
    "data_root = '.' # Change me to store data elsewhere\n",
    "\n",
    "def download_progress_hook(count, blockSize, totalSize):\n",
    "  \"\"\"A hook to report the progress of a download. This is mostly intended for users with\n",
    "  slow internet connections. Reports every 5% change in download progress.\n",
    "  \"\"\"\n",
    "  global last_percent_reported\n",
    "  percent = int(count * blockSize * 100 / totalSize)\n",
    "\n",
    "  if last_percent_reported != percent:\n",
    "    if percent % 5 == 0:\n",
    "      sys.stdout.write(\"%s%%\" % percent)\n",
    "      sys.stdout.flush()\n",
    "    else:\n",
    "      sys.stdout.write(\".\")\n",
    "      sys.stdout.flush()\n",
    "      \n",
    "    last_percent_reported = percent\n",
    "        \n",
    "def maybe_download(filename, expected_bytes, force=False):\n",
    "  \"\"\"Download a file if not present, and make sure it's the right size.\"\"\"\n",
    "  dest_filename = os.path.join(data_root, filename)\n",
    "  if force or not os.path.exists(dest_filename):\n",
    "    print('Attempting to download:', filename) \n",
    "    filename, _ = urlretrieve(url + filename, dest_filename, reporthook=download_progress_hook)\n",
    "    print('\\nDownload Complete!')\n",
    "  statinfo = os.stat(dest_filename)\n",
    "  if statinfo.st_size == expected_bytes:\n",
    "    print('Found and verified', dest_filename)\n",
    "  else:\n",
    "    raise Exception(\n",
    "      'Failed to verify ' + dest_filename + '. Can you get to it with a browser?')\n",
    "  return dest_filename\n"
   ]
  },
  {
   "cell_type": "code",
   "execution_count": 3,
   "metadata": {
    "collapsed": false
   },
   "outputs": [
    {
     "name": "stdout",
     "output_type": "stream",
     "text": [
      "Found and verified ./notMNIST_large.tar.gz\n"
     ]
    }
   ],
   "source": [
    "train_filename = maybe_download('notMNIST_large.tar.gz', 247336696)\n"
   ]
  },
  {
   "cell_type": "code",
   "execution_count": 4,
   "metadata": {
    "collapsed": false
   },
   "outputs": [
    {
     "name": "stdout",
     "output_type": "stream",
     "text": [
      "Found and verified ./notMNIST_small.tar.gz\n"
     ]
    }
   ],
   "source": [
    "test_filename = maybe_download('notMNIST_small.tar.gz', 8458043)"
   ]
  },
  {
   "cell_type": "markdown",
   "metadata": {
    "colab_type": "text",
    "deletable": true,
    "editable": true,
    "id": "cC3p0oEyF8QT"
   },
   "source": [
    "Extract the dataset from the compressed .tar.gz file.\n",
    "This should give you a set of directories, labelled A through J."
   ]
  },
  {
   "cell_type": "code",
   "execution_count": 5,
   "metadata": {
    "cellView": "both",
    "colab": {
     "autoexec": {
      "startup": false,
      "wait_interval": 0
     },
     "output_extras": [
      {
       "item_id": 1
      }
     ]
    },
    "colab_type": "code",
    "collapsed": false,
    "deletable": true,
    "editable": true,
    "executionInfo": {
     "elapsed": 186055,
     "status": "ok",
     "timestamp": 1444485672525,
     "user": {
      "color": "#1FA15D",
      "displayName": "Vincent Vanhoucke",
      "isAnonymous": false,
      "isMe": true,
      "permissionId": "05076109866853157986",
      "photoUrl": "//lh6.googleusercontent.com/-cCJa7dTDcgQ/AAAAAAAAAAI/AAAAAAAACgw/r2EZ_8oYer4/s50-c-k-no/photo.jpg",
      "sessionId": "2a0a5e044bb03b66",
      "userId": "102167687554210253930"
     },
     "user_tz": 420
    },
    "id": "H8CBE-WZ8nmj",
    "outputId": "ef6c790c-2513-4b09-962e-27c79390c762",
    "scrolled": true
   },
   "outputs": [],
   "source": [
    "num_classes = 10\n",
    "np.random.seed(133)\n",
    "\n",
    "def maybe_extract(filename, force=False):\n",
    "  root = os.path.splitext(os.path.splitext(filename)[0])[0]  # remove .tar.gz\n",
    "  if os.path.isdir(root) and not force:\n",
    "    # You may override by setting force=True.\n",
    "    print('%s already present - Skipping extraction of %s.' % (root, filename))\n",
    "  else:\n",
    "    print('Extracting data for %s. This may take a while. Please wait.' % root)\n",
    "    tar = tarfile.open(filename)\n",
    "    sys.stdout.flush()\n",
    "    tar.extractall(data_root)\n",
    "    tar.close()\n",
    "  data_folders = [\n",
    "    os.path.join(root, d) for d in sorted(os.listdir(root))\n",
    "    if os.path.isdir(os.path.join(root, d))]\n",
    "  if len(data_folders) != num_classes:\n",
    "    raise Exception(\n",
    "      'Expected %d folders, one per class. Found %d instead.' % (\n",
    "        num_classes, len(data_folders)))\n",
    "  print(data_folders)\n",
    "  return data_folders\n"
   ]
  },
  {
   "cell_type": "code",
   "execution_count": 6,
   "metadata": {
    "collapsed": false
   },
   "outputs": [
    {
     "name": "stdout",
     "output_type": "stream",
     "text": [
      "./notMNIST_large already present - Skipping extraction of ./notMNIST_large.tar.gz.\n",
      "['./notMNIST_large/A', './notMNIST_large/B', './notMNIST_large/C', './notMNIST_large/D', './notMNIST_large/E', './notMNIST_large/F', './notMNIST_large/G', './notMNIST_large/H', './notMNIST_large/I', './notMNIST_large/J']\n"
     ]
    }
   ],
   "source": [
    "train_folders = maybe_extract(train_filename)"
   ]
  },
  {
   "cell_type": "code",
   "execution_count": 7,
   "metadata": {
    "collapsed": false
   },
   "outputs": [
    {
     "name": "stdout",
     "output_type": "stream",
     "text": [
      "./notMNIST_small already present - Skipping extraction of ./notMNIST_small.tar.gz.\n",
      "['./notMNIST_small/A', './notMNIST_small/B', './notMNIST_small/C', './notMNIST_small/D', './notMNIST_small/E', './notMNIST_small/F', './notMNIST_small/G', './notMNIST_small/H', './notMNIST_small/I', './notMNIST_small/J']\n"
     ]
    }
   ],
   "source": [
    "test_folders = maybe_extract(test_filename)"
   ]
  },
  {
   "cell_type": "markdown",
   "metadata": {
    "colab_type": "text",
    "deletable": true,
    "editable": true,
    "id": "4riXK3IoHgx6"
   },
   "source": [
    "---\n",
    "Problem 1\n",
    "---------\n",
    "\n",
    "Let's take a peek at some of the data to make sure it looks sensible. Each exemplar should be an image of a character A through J rendered in a different font. Display a sample of the images that we just downloaded. Hint: you can use the package IPython.display.\n",
    "\n",
    "---"
   ]
  },
  {
   "cell_type": "code",
   "execution_count": 8,
   "metadata": {
    "collapsed": false,
    "deletable": true,
    "editable": true
   },
   "outputs": [],
   "source": [
    "def display_inline(img_list):\n",
    "    imagesList=''.join( [\"<img style='width: 120px; margin: 0px; float: left; \\\n",
    "    border: 1px solid black; background: #CCC' src='%s' />\" % str(s) for s in img_list ])\n",
    "    display(HTML(imagesList))\n",
    "\n",
    "    \n",
    "def show_images_in_folder(folder,sample_size=1):\n",
    "    \"\"\" Show images sampled from a directory \"\"\"\n",
    "    img_files = np.random.choice(os.listdir(folder), sample_size,False)\n",
    "    img_files = [os.path.join(folder,img_) for img_ in img_files]\n",
    "    display_inline(img_files)\n",
    "\n",
    "def show_images_from_folders(folders,sample_size):\n",
    "    \"\"\" Show images from a directory of images directories \"\"\"\n",
    "    for folder in folders:\n",
    "            print(folder)\n",
    "            show_images_in_folder(folder,sample_size=sample_size)\n"
   ]
  },
  {
   "cell_type": "code",
   "execution_count": 11,
   "metadata": {
    "collapsed": false,
    "deletable": true,
    "editable": true
   },
   "outputs": [
    {
     "name": "stdout",
     "output_type": "stream",
     "text": [
      "./notMNIST_large/A\n"
     ]
    },
    {
     "data": {
      "text/html": [
       "<img style='width: 120px; margin: 0px; float: left;     border: 1px solid black; background: #CCC' src='./notMNIST_large/A/UG9wcGxQb250aUJRLU1lZGl1bUNvbmRlbnNlZC5vdGY=.png' /><img style='width: 120px; margin: 0px; float: left;     border: 1px solid black; background: #CCC' src='./notMNIST_large/A/QXBvbGxvIE1UIEl0YWxpYyBPbGRzdHlsZSBGaWd1cmVzLnBmYg==.png' /><img style='width: 120px; margin: 0px; float: left;     border: 1px solid black; background: #CCC' src='./notMNIST_large/A/TGVnYWN5U2Fuc0lUQ1N0ZC1NZWRpdW1JdGFsaWMub3Rm.png' /><img style='width: 120px; margin: 0px; float: left;     border: 1px solid black; background: #CCC' src='./notMNIST_large/A/SnVuZ2xlIEJ1cm5vdXQgT2JsaXF1ZS5vdGY=.png' /><img style='width: 120px; margin: 0px; float: left;     border: 1px solid black; background: #CCC' src='./notMNIST_large/A/QWphQlEub3Rm.png' /><img style='width: 120px; margin: 0px; float: left;     border: 1px solid black; background: #CCC' src='./notMNIST_large/A/U3RhcmdpdC50dGY=.png' /><img style='width: 120px; margin: 0px; float: left;     border: 1px solid black; background: #CCC' src='./notMNIST_large/A/R3Vuc2hpcCBMZWZ0YWxpYy50dGY=.png' />"
      ],
      "text/plain": [
       "<IPython.core.display.HTML object>"
      ]
     },
     "metadata": {},
     "output_type": "display_data"
    },
    {
     "name": "stdout",
     "output_type": "stream",
     "text": [
      "./notMNIST_large/B\n"
     ]
    },
    {
     "data": {
      "text/html": [
       "<img style='width: 120px; margin: 0px; float: left;     border: 1px solid black; background: #CCC' src='./notMNIST_large/B/Q0sgV2VkZGluZy50dGY=.png' /><img style='width: 120px; margin: 0px; float: left;     border: 1px solid black; background: #CCC' src='./notMNIST_large/B/SGFuZHdyaXRlLUlua2JsLnR0Zg==.png' /><img style='width: 120px; margin: 0px; float: left;     border: 1px solid black; background: #CCC' src='./notMNIST_large/B/QWtyb25Cb2xkQ29uZGVuc2VkLm90Zg==.png' /><img style='width: 120px; margin: 0px; float: left;     border: 1px solid black; background: #CCC' src='./notMNIST_large/B/Smlua3kub3Rm.png' /><img style='width: 120px; margin: 0px; float: left;     border: 1px solid black; background: #CCC' src='./notMNIST_large/B/V2VpcmRUb28ub3Rm.png' /><img style='width: 120px; margin: 0px; float: left;     border: 1px solid black; background: #CCC' src='./notMNIST_large/B/WXVjYXRhbiBJdGFsaWMudHRm.png' /><img style='width: 120px; margin: 0px; float: left;     border: 1px solid black; background: #CCC' src='./notMNIST_large/B/QWt6aWRlbnpHcm90RXh0QlEtTWVkaXVtLm90Zg==.png' />"
      ],
      "text/plain": [
       "<IPython.core.display.HTML object>"
      ]
     },
     "metadata": {},
     "output_type": "display_data"
    },
    {
     "name": "stdout",
     "output_type": "stream",
     "text": [
      "./notMNIST_large/C\n"
     ]
    },
    {
     "data": {
      "text/html": [
       "<img style='width: 120px; margin: 0px; float: left;     border: 1px solid black; background: #CCC' src='./notMNIST_large/C/RHJpcHMgTm9ybWFsLnR0Zg==.png' /><img style='width: 120px; margin: 0px; float: left;     border: 1px solid black; background: #CCC' src='./notMNIST_large/C/UVRCYXNrZXIgQm9sZC50dGY=.png' /><img style='width: 120px; margin: 0px; float: left;     border: 1px solid black; background: #CCC' src='./notMNIST_large/C/RnJ1dGlnZXJDRS1CbGFja0l0YWxpYy5vdGY=.png' /><img style='width: 120px; margin: 0px; float: left;     border: 1px solid black; background: #CCC' src='./notMNIST_large/C/QmF1ZXJCb2RvbmktUm9tYW4ub3Rm.png' /><img style='width: 120px; margin: 0px; float: left;     border: 1px solid black; background: #CCC' src='./notMNIST_large/C/S2V5aG9sZS1Db25kZW5zZWQgSXRhbGljLnR0Zg==.png' /><img style='width: 120px; margin: 0px; float: left;     border: 1px solid black; background: #CCC' src='./notMNIST_large/C/QnVybmZvbnQub3Rm.png' /><img style='width: 120px; margin: 0px; float: left;     border: 1px solid black; background: #CCC' src='./notMNIST_large/C/U2VycGVudGluZUlDRy1Cb2xkLm90Zg==.png' />"
      ],
      "text/plain": [
       "<IPython.core.display.HTML object>"
      ]
     },
     "metadata": {},
     "output_type": "display_data"
    },
    {
     "name": "stdout",
     "output_type": "stream",
     "text": [
      "./notMNIST_large/D\n"
     ]
    },
    {
     "data": {
      "text/html": [
       "<img style='width: 120px; margin: 0px; float: left;     border: 1px solid black; background: #CCC' src='./notMNIST_large/D/UGxhbmstQ29uZGVuc2VkIE5vcm1hbC50dGY=.png' /><img style='width: 120px; margin: 0px; float: left;     border: 1px solid black; background: #CCC' src='./notMNIST_large/D/TW9ycmlzIEluaXRpYWxzLnR0Zg==.png' /><img style='width: 120px; margin: 0px; float: left;     border: 1px solid black; background: #CCC' src='./notMNIST_large/D/QmVhdXRpZnVsSW5rLm90Zg==.png' /><img style='width: 120px; margin: 0px; float: left;     border: 1px solid black; background: #CCC' src='./notMNIST_large/D/R2Fwb3NpcyBPdXRsaW5lIChCUkspLnR0Zg==.png' /><img style='width: 120px; margin: 0px; float: left;     border: 1px solid black; background: #CCC' src='./notMNIST_large/D/TGl0ZXJhRUYtUmVndWxhci5vdGY=.png' /><img style='width: 120px; margin: 0px; float: left;     border: 1px solid black; background: #CCC' src='./notMNIST_large/D/TmV3IEFzdGVyIEJvbGQgSXRhbGljLnBmYg==.png' /><img style='width: 120px; margin: 0px; float: left;     border: 1px solid black; background: #CCC' src='./notMNIST_large/D/RmxpbnRzSGFuZCBSZWd1bGFyLnR0Zg==.png' />"
      ],
      "text/plain": [
       "<IPython.core.display.HTML object>"
      ]
     },
     "metadata": {},
     "output_type": "display_data"
    },
    {
     "name": "stdout",
     "output_type": "stream",
     "text": [
      "./notMNIST_large/E\n"
     ]
    },
    {
     "data": {
      "text/html": [
       "<img style='width: 120px; margin: 0px; float: left;     border: 1px solid black; background: #CCC' src='./notMNIST_large/E/QWxpbmFzSGFuZCBSZWd1bGFyLnR0Zg==.png' /><img style='width: 120px; margin: 0px; float: left;     border: 1px solid black; background: #CCC' src='./notMNIST_large/E/S25vY2tvdXQtSFRGNjYtRnVsbEZseXdlaWdodC5vdGY=.png' /><img style='width: 120px; margin: 0px; float: left;     border: 1px solid black; background: #CCC' src='./notMNIST_large/E/U3dpc3MgNzIxIEl0YWxpYyBXaW45NUJUKDEpLnR0Zg==.png' /><img style='width: 120px; margin: 0px; float: left;     border: 1px solid black; background: #CCC' src='./notMNIST_large/E/V2FybG9yZHMgTm9ybWFsLnR0Zg==.png' /><img style='width: 120px; margin: 0px; float: left;     border: 1px solid black; background: #CCC' src='./notMNIST_large/E/RnJlZWRvbSA5IENvbmRlbnNlZCBCb2xkLnR0Zg==.png' /><img style='width: 120px; margin: 0px; float: left;     border: 1px solid black; background: #CCC' src='./notMNIST_large/E/VHJ1ZXNkZWxsU3RkLUJvbGQub3Rm.png' /><img style='width: 120px; margin: 0px; float: left;     border: 1px solid black; background: #CCC' src='./notMNIST_large/E/UGFnZUNsaXBzIEl0YWxpYy50dGY=.png' />"
      ],
      "text/plain": [
       "<IPython.core.display.HTML object>"
      ]
     },
     "metadata": {},
     "output_type": "display_data"
    },
    {
     "name": "stdout",
     "output_type": "stream",
     "text": [
      "./notMNIST_large/F\n"
     ]
    },
    {
     "data": {
      "text/html": [
       "<img style='width: 120px; margin: 0px; float: left;     border: 1px solid black; background: #CCC' src='./notMNIST_large/F/QmF1aGF1c0hlYXZ5T3V0bGluZS5vdGY=.png' /><img style='width: 120px; margin: 0px; float: left;     border: 1px solid black; background: #CCC' src='./notMNIST_large/F/TmVib21hbi50dGY=.png' /><img style='width: 120px; margin: 0px; float: left;     border: 1px solid black; background: #CCC' src='./notMNIST_large/F/QnVzaW5lc3NTZXJ2aWNlc1AwMi5vdGY=.png' /><img style='width: 120px; margin: 0px; float: left;     border: 1px solid black; background: #CCC' src='./notMNIST_large/F/RXVyb3N0aWxlTFRTdGQtQm9sZC5vdGY=.png' /><img style='width: 120px; margin: 0px; float: left;     border: 1px solid black; background: #CCC' src='./notMNIST_large/F/TmFkaW5lIFdpZGUgQm9sZC50dGY=.png' /><img style='width: 120px; margin: 0px; float: left;     border: 1px solid black; background: #CCC' src='./notMNIST_large/F/R290aGljIDU3IE5vcm1hbC50dGY=.png' /><img style='width: 120px; margin: 0px; float: left;     border: 1px solid black; background: #CCC' src='./notMNIST_large/F/TW9kZXJuIEJvbGQgSXRhbGljLnR0Zg==.png' />"
      ],
      "text/plain": [
       "<IPython.core.display.HTML object>"
      ]
     },
     "metadata": {},
     "output_type": "display_data"
    },
    {
     "name": "stdout",
     "output_type": "stream",
     "text": [
      "./notMNIST_large/G\n"
     ]
    },
    {
     "data": {
      "text/html": [
       "<img style='width: 120px; margin: 0px; float: left;     border: 1px solid black; background: #CCC' src='./notMNIST_large/G/RmFuZ1NvbmcudHRm.png' /><img style='width: 120px; margin: 0px; float: left;     border: 1px solid black; background: #CCC' src='./notMNIST_large/G/Q29uc3RydWN0aXZvIERlbW8udHRm.png' /><img style='width: 120px; margin: 0px; float: left;     border: 1px solid black; background: #CCC' src='./notMNIST_large/G/Q29sb3VyQmxpbmQudHRm.png' /><img style='width: 120px; margin: 0px; float: left;     border: 1px solid black; background: #CCC' src='./notMNIST_large/G/Qk4gRm9udEJveS50dGY=.png' /><img style='width: 120px; margin: 0px; float: left;     border: 1px solid black; background: #CCC' src='./notMNIST_large/G/VW5pdGVkU2Fuc1JlZy1MaWdodC5vdGY=.png' /><img style='width: 120px; margin: 0px; float: left;     border: 1px solid black; background: #CCC' src='./notMNIST_large/G/Qm9yZGVyc09ybmFtZW50c1AwMS5vdGY=.png' /><img style='width: 120px; margin: 0px; float: left;     border: 1px solid black; background: #CCC' src='./notMNIST_large/G/QmFzZVR3ZWx2ZVNlcmlmIEJvbGQgSXRhbGljLnR0Zg==.png' />"
      ],
      "text/plain": [
       "<IPython.core.display.HTML object>"
      ]
     },
     "metadata": {},
     "output_type": "display_data"
    },
    {
     "name": "stdout",
     "output_type": "stream",
     "text": [
      "./notMNIST_large/H\n"
     ]
    },
    {
     "data": {
      "text/html": [
       "<img style='width: 120px; margin: 0px; float: left;     border: 1px solid black; background: #CCC' src='./notMNIST_large/H/TmltYnVzU2FuVCBJdGFsaWMudHRm.png' /><img style='width: 120px; margin: 0px; float: left;     border: 1px solid black; background: #CCC' src='./notMNIST_large/H/RXNwcml0LUJsYWNrSXRhbGljLm90Zg==.png' /><img style='width: 120px; margin: 0px; float: left;     border: 1px solid black; background: #CCC' src='./notMNIST_large/H/QnJpb3NvUHJvLVN1Ymgub3Rm.png' /><img style='width: 120px; margin: 0px; float: left;     border: 1px solid black; background: #CCC' src='./notMNIST_large/H/T1BUSVJvbWFuQy1TaGFkZWQub3Rm.png' /><img style='width: 120px; margin: 0px; float: left;     border: 1px solid black; background: #CCC' src='./notMNIST_large/H/UmFtb25hIEl0YWxpYy50dGY=.png' /><img style='width: 120px; margin: 0px; float: left;     border: 1px solid black; background: #CCC' src='./notMNIST_large/H/R2lsbFNhbnNNVFN0ZC1Cb2xkSXRhbGljLm90Zg==.png' /><img style='width: 120px; margin: 0px; float: left;     border: 1px solid black; background: #CCC' src='./notMNIST_large/H/Q0sgR3Jvd2luZyBVcC50dGY=.png' />"
      ],
      "text/plain": [
       "<IPython.core.display.HTML object>"
      ]
     },
     "metadata": {},
     "output_type": "display_data"
    },
    {
     "name": "stdout",
     "output_type": "stream",
     "text": [
      "./notMNIST_large/I\n"
     ]
    },
    {
     "data": {
      "text/html": [
       "<img style='width: 120px; margin: 0px; float: left;     border: 1px solid black; background: #CCC' src='./notMNIST_large/I/VW5pdmVycy1Cb2xkLm90Zg==.png' /><img style='width: 120px; margin: 0px; float: left;     border: 1px solid black; background: #CCC' src='./notMNIST_large/I/TWluaSBQaWNzIEdsb2JhbCBTIEN1dG91dC50dGY=.png' /><img style='width: 120px; margin: 0px; float: left;     border: 1px solid black; background: #CCC' src='./notMNIST_large/I/S3VicmFfTG93LnR0Zg==.png' /><img style='width: 120px; margin: 0px; float: left;     border: 1px solid black; background: #CCC' src='./notMNIST_large/I/TWVkaWEtTGlnaHRJdGEub3Rm.png' /><img style='width: 120px; margin: 0px; float: left;     border: 1px solid black; background: #CCC' src='./notMNIST_large/I/T3JpZW50MS1FeHRlbmRlZCBJdGFsaWMudHRm.png' /><img style='width: 120px; margin: 0px; float: left;     border: 1px solid black; background: #CCC' src='./notMNIST_large/I/TUVsbGluZ3Rvbi1MaWdodC5vdGY=.png' /><img style='width: 120px; margin: 0px; float: left;     border: 1px solid black; background: #CCC' src='./notMNIST_large/I/U0YgUGllem9sZWN0cmljIFNGWC50dGY=.png' />"
      ],
      "text/plain": [
       "<IPython.core.display.HTML object>"
      ]
     },
     "metadata": {},
     "output_type": "display_data"
    },
    {
     "name": "stdout",
     "output_type": "stream",
     "text": [
      "./notMNIST_large/J\n"
     ]
    },
    {
     "data": {
      "text/html": [
       "<img style='width: 120px; margin: 0px; float: left;     border: 1px solid black; background: #CCC' src='./notMNIST_large/J/RW5zaWduIEZsYW5kcnkgTGFzU2hhZCBJdGFsaWMudHRm.png' /><img style='width: 120px; margin: 0px; float: left;     border: 1px solid black; background: #CCC' src='./notMNIST_large/J/QmVydGhvbGQgV2FsYmF1bSBCb29rIEJvbGQgT2xkc3R5bGUgRmlndXJlcy5wZmI=.png' /><img style='width: 120px; margin: 0px; float: left;     border: 1px solid black; background: #CCC' src='./notMNIST_large/J/Um94YW5uZS50dGY=.png' /><img style='width: 120px; margin: 0px; float: left;     border: 1px solid black; background: #CCC' src='./notMNIST_large/J/THVjaWRhU2Fuc0VGLUJvbGRJdGFsaWMub3Rm.png' /><img style='width: 120px; margin: 0px; float: left;     border: 1px solid black; background: #CCC' src='./notMNIST_large/J/RG9taW5vIHNxdWFyZSBrdXJzaXYgb21yaWRzLnR0Zg==.png' /><img style='width: 120px; margin: 0px; float: left;     border: 1px solid black; background: #CCC' src='./notMNIST_large/J/VHlwZXN0YXItQmxhY2tJdGFsaWMub3Rm.png' /><img style='width: 120px; margin: 0px; float: left;     border: 1px solid black; background: #CCC' src='./notMNIST_large/J/QmVybmhhcmQgTW9kZXJuIElDRyBFbmcudHRm.png' />"
      ],
      "text/plain": [
       "<IPython.core.display.HTML object>"
      ]
     },
     "metadata": {},
     "output_type": "display_data"
    }
   ],
   "source": [
    "show_images_from_folders(train_folders,7)"
   ]
  },
  {
   "cell_type": "code",
   "execution_count": 12,
   "metadata": {
    "collapsed": false
   },
   "outputs": [
    {
     "name": "stdout",
     "output_type": "stream",
     "text": [
      "./notMNIST_small/A\n"
     ]
    },
    {
     "data": {
      "text/html": [
       "<img style='width: 120px; margin: 0px; float: left;     border: 1px solid black; background: #CCC' src='./notMNIST_small/A/R2FzdGFkYS50dGY=.png' /><img style='width: 120px; margin: 0px; float: left;     border: 1px solid black; background: #CCC' src='./notMNIST_small/A/Q29uc3RydWN0aXZpc3QgU29saWQudHRm.png' /><img style='width: 120px; margin: 0px; float: left;     border: 1px solid black; background: #CCC' src='./notMNIST_small/A/R2FyZW1vbmQtQm9sZC5vdGY=.png' /><img style='width: 120px; margin: 0px; float: left;     border: 1px solid black; background: #CCC' src='./notMNIST_small/A/RHluYW1vUnhlSFhFLm90Zg==.png' /><img style='width: 120px; margin: 0px; float: left;     border: 1px solid black; background: #CCC' src='./notMNIST_small/A/Rm9saW8gWEJkIEJUIEV4dHJhIEJvbGQudHRm.png' /><img style='width: 120px; margin: 0px; float: left;     border: 1px solid black; background: #CCC' src='./notMNIST_small/A/SGVhZGxpbmUgVGhpbiBJdGFsaWMudHRm.png' /><img style='width: 120px; margin: 0px; float: left;     border: 1px solid black; background: #CCC' src='./notMNIST_small/A/SGFtbWVyZWQudHRm.png' />"
      ],
      "text/plain": [
       "<IPython.core.display.HTML object>"
      ]
     },
     "metadata": {},
     "output_type": "display_data"
    },
    {
     "name": "stdout",
     "output_type": "stream",
     "text": [
      "./notMNIST_small/B\n"
     ]
    },
    {
     "data": {
      "text/html": [
       "<img style='width: 120px; margin: 0px; float: left;     border: 1px solid black; background: #CCC' src='./notMNIST_small/B/QXZhbnRHYXJkZVhMaWdodE9ibGlxdWUub3Rm.png' /><img style='width: 120px; margin: 0px; float: left;     border: 1px solid black; background: #CCC' src='./notMNIST_small/B/SHVtYW5pc3Q3NzdCVC1Sb21hbkIub3Rm.png' /><img style='width: 120px; margin: 0px; float: left;     border: 1px solid black; background: #CCC' src='./notMNIST_small/B/QmFydCBIZWF2eSBJdGFsaWMudHRm.png' /><img style='width: 120px; margin: 0px; float: left;     border: 1px solid black; background: #CCC' src='./notMNIST_small/B/R29ybG9jayAgQm9sZC50dGY=.png' /><img style='width: 120px; margin: 0px; float: left;     border: 1px solid black; background: #CCC' src='./notMNIST_small/B/QmxldyBXaWRlIEJvbGQgSXRhbGljLnR0Zg==.png' /><img style='width: 120px; margin: 0px; float: left;     border: 1px solid black; background: #CCC' src='./notMNIST_small/B/Rm9ybWF0YUJRLU1lZGl1bS5vdGY=.png' /><img style='width: 120px; margin: 0px; float: left;     border: 1px solid black; background: #CCC' src='./notMNIST_small/B/R2lsbCBTYW5zIE1UIEl0YWxpYy50dGY=.png' />"
      ],
      "text/plain": [
       "<IPython.core.display.HTML object>"
      ]
     },
     "metadata": {},
     "output_type": "display_data"
    },
    {
     "name": "stdout",
     "output_type": "stream",
     "text": [
      "./notMNIST_small/C\n"
     ]
    },
    {
     "data": {
      "text/html": [
       "<img style='width: 120px; margin: 0px; float: left;     border: 1px solid black; background: #CCC' src='./notMNIST_small/C/QWdmYVJvdGlzU2VyaWYub3Rm.png' /><img style='width: 120px; margin: 0px; float: left;     border: 1px solid black; background: #CCC' src='./notMNIST_small/C/QWFyZHZhcmstUmVndWxhci5vdGY=.png' /><img style='width: 120px; margin: 0px; float: left;     border: 1px solid black; background: #CCC' src='./notMNIST_small/C/RWlkZXRpY05lby1JdGFsaWMub3Rm.png' /><img style='width: 120px; margin: 0px; float: left;     border: 1px solid black; background: #CCC' src='./notMNIST_small/C/QW1lcmljYW5hU3RkLUJvbGQub3Rm.png' /><img style='width: 120px; margin: 0px; float: left;     border: 1px solid black; background: #CCC' src='./notMNIST_small/C/RkZGIEludGVyZmFjZTAxYi50dGY=.png' /><img style='width: 120px; margin: 0px; float: left;     border: 1px solid black; background: #CCC' src='./notMNIST_small/C/RXVyb3BlRXh0LUJvbGQub3Rm.png' /><img style='width: 120px; margin: 0px; float: left;     border: 1px solid black; background: #CCC' src='./notMNIST_small/C/QmVtYm8gTU9OT1RZUEUgRXhwZXJ0IEJvbGQgT3NGLnR0Zg==.png' />"
      ],
      "text/plain": [
       "<IPython.core.display.HTML object>"
      ]
     },
     "metadata": {},
     "output_type": "display_data"
    },
    {
     "name": "stdout",
     "output_type": "stream",
     "text": [
      "./notMNIST_small/D\n"
     ]
    },
    {
     "data": {
      "text/html": [
       "<img style='width: 120px; margin: 0px; float: left;     border: 1px solid black; background: #CCC' src='./notMNIST_small/D/QmF0YWtDb25kZW5zZWRJVENTdGRCb2xkLm90Zg==.png' /><img style='width: 120px; margin: 0px; float: left;     border: 1px solid black; background: #CCC' src='./notMNIST_small/D/RWR3YXJkaWFuIFNjcmlwdCBJVEMoMSkudHRm.png' /><img style='width: 120px; margin: 0px; float: left;     border: 1px solid black; background: #CCC' src='./notMNIST_small/D/QW5uYWJlbGxlIEpGLnR0Zg==.png' /><img style='width: 120px; margin: 0px; float: left;     border: 1px solid black; background: #CCC' src='./notMNIST_small/D/QnJpZW1TY3JpcHRTdGQtQmxhY2sub3Rm.png' /><img style='width: 120px; margin: 0px; float: left;     border: 1px solid black; background: #CCC' src='./notMNIST_small/D/QWdlbmN5RkItQmxhY2tDb25kZW5zZWQub3Rm.png' /><img style='width: 120px; margin: 0px; float: left;     border: 1px solid black; background: #CCC' src='./notMNIST_small/D/RmFnb0NvTGYub3Rm.png' /><img style='width: 120px; margin: 0px; float: left;     border: 1px solid black; background: #CCC' src='./notMNIST_small/D/Q2FzbG9uMjI0SVRDYnlCVC1Cb2xkSXRhbGljLm90Zg==.png' />"
      ],
      "text/plain": [
       "<IPython.core.display.HTML object>"
      ]
     },
     "metadata": {},
     "output_type": "display_data"
    },
    {
     "name": "stdout",
     "output_type": "stream",
     "text": [
      "./notMNIST_small/E\n"
     ]
    },
    {
     "data": {
      "text/html": [
       "<img style='width: 120px; margin: 0px; float: left;     border: 1px solid black; background: #CCC' src='./notMNIST_small/E/RHluYW1vUkl0YWxpY1Iub3Rm.png' /><img style='width: 120px; margin: 0px; float: left;     border: 1px solid black; background: #CCC' src='./notMNIST_small/E/RXhvdGljLURlbWkgQ24gSXRhbGljLnR0Zg==.png' /><img style='width: 120px; margin: 0px; float: left;     border: 1px solid black; background: #CCC' src='./notMNIST_small/E/QnVyZWF1R3JvdFRocmVlU2V2ZW4ub3Rm.png' /><img style='width: 120px; margin: 0px; float: left;     border: 1px solid black; background: #CCC' src='./notMNIST_small/E/RGFuY2luU3RkLm90Zg==.png' /><img style='width: 120px; margin: 0px; float: left;     border: 1px solid black; background: #CCC' src='./notMNIST_small/E/RHJlYW0gT3JwaGFucy50dGY=.png' /><img style='width: 120px; margin: 0px; float: left;     border: 1px solid black; background: #CCC' src='./notMNIST_small/E/QXBvbGxvOS50dGY=.png' /><img style='width: 120px; margin: 0px; float: left;     border: 1px solid black; background: #CCC' src='./notMNIST_small/E/Q2xlYXJmYWNlIElUQyBCbGFjay50dGY=.png' />"
      ],
      "text/plain": [
       "<IPython.core.display.HTML object>"
      ]
     },
     "metadata": {},
     "output_type": "display_data"
    },
    {
     "name": "stdout",
     "output_type": "stream",
     "text": [
      "./notMNIST_small/F\n"
     ]
    },
    {
     "data": {
      "text/html": [
       "<img style='width: 120px; margin: 0px; float: left;     border: 1px solid black; background: #CCC' src='./notMNIST_small/F/QnVzdGVyLUJvbGRDb25kZW5zZWQub3Rm.png' /><img style='width: 120px; margin: 0px; float: left;     border: 1px solid black; background: #CCC' src='./notMNIST_small/F/R29vZGZpc2gudHRm.png' /><img style='width: 120px; margin: 0px; float: left;     border: 1px solid black; background: #CCC' src='./notMNIST_small/F/QWdmYVJvdGlzU2VyaWYub3Rm.png' /><img style='width: 120px; margin: 0px; float: left;     border: 1px solid black; background: #CCC' src='./notMNIST_small/F/R291ZHlDYXRhbG9ndWVCVC1SZWd1bGFyLm90Zg==.png' /><img style='width: 120px; margin: 0px; float: left;     border: 1px solid black; background: #CCC' src='./notMNIST_small/F/RGVudmVyLU1lZGl1bS5vdGY=.png' /><img style='width: 120px; margin: 0px; float: left;     border: 1px solid black; background: #CCC' src='./notMNIST_small/F/QWxkaW5lNzIxQlQtQm9sZENvbmRlbnNlZC5vdGY=.png' /><img style='width: 120px; margin: 0px; float: left;     border: 1px solid black; background: #CCC' src='./notMNIST_small/F/RWxkcm9vbi50dGY=.png' />"
      ],
      "text/plain": [
       "<IPython.core.display.HTML object>"
      ]
     },
     "metadata": {},
     "output_type": "display_data"
    },
    {
     "name": "stdout",
     "output_type": "stream",
     "text": [
      "./notMNIST_small/G\n"
     ]
    },
    {
     "data": {
      "text/html": [
       "<img style='width: 120px; margin: 0px; float: left;     border: 1px solid black; background: #CCC' src='./notMNIST_small/G/Q2hlbWljYWwgUmVhY3Rpb24gQiAtQlJLLS50dGY=.png' /><img style='width: 120px; margin: 0px; float: left;     border: 1px solid black; background: #CCC' src='./notMNIST_small/G/Q2xhcml0eSBHb3RoaWMgU0YudHRm.png' /><img style='width: 120px; margin: 0px; float: left;     border: 1px solid black; background: #CCC' src='./notMNIST_small/G/MlJlYmVsc0RldXgtQmxhY2sub3Rm.png' /><img style='width: 120px; margin: 0px; float: left;     border: 1px solid black; background: #CCC' src='./notMNIST_small/G/RW5ncmF2ZXJzJyBSb21hbiBCVC50dGY=.png' /><img style='width: 120px; margin: 0px; float: left;     border: 1px solid black; background: #CCC' src='./notMNIST_small/G/RXJlaHdvblJvbWFuTkYudHRm.png' /><img style='width: 120px; margin: 0px; float: left;     border: 1px solid black; background: #CCC' src='./notMNIST_small/G/RWxsaW5ndG9uIE1UIEJvbGQudHRm.png' /><img style='width: 120px; margin: 0px; float: left;     border: 1px solid black; background: #CCC' src='./notMNIST_small/G/QW5kZXJzb24ub3Rm.png' />"
      ],
      "text/plain": [
       "<IPython.core.display.HTML object>"
      ]
     },
     "metadata": {},
     "output_type": "display_data"
    },
    {
     "name": "stdout",
     "output_type": "stream",
     "text": [
      "./notMNIST_small/H\n"
     ]
    },
    {
     "data": {
      "text/html": [
       "<img style='width: 120px; margin: 0px; float: left;     border: 1px solid black; background: #CCC' src='./notMNIST_small/H/SVRDIEdvdWR5IFNhbnMgTGlnaHQucGZi.png' /><img style='width: 120px; margin: 0px; float: left;     border: 1px solid black; background: #CCC' src='./notMNIST_small/H/RHluYW1vUnhlSFhFLm90Zg==.png' /><img style='width: 120px; margin: 0px; float: left;     border: 1px solid black; background: #CCC' src='./notMNIST_small/H/RXllIGdsYXNzIFRoaW4gSXRhbGljLnR0Zg==.png' /><img style='width: 120px; margin: 0px; float: left;     border: 1px solid black; background: #CCC' src='./notMNIST_small/H/SG91c2VHb3RoaWNIRzIzVGV4dC1Cb2xkLm90Zg==.png' /><img style='width: 120px; margin: 0px; float: left;     border: 1px solid black; background: #CCC' src='./notMNIST_small/H/QmFsbGFudGluZXNTY3JpcHRFRi1NZWRpdW0ub3Rm.png' /><img style='width: 120px; margin: 0px; float: left;     border: 1px solid black; background: #CCC' src='./notMNIST_small/H/QnJ1c2ggNDQ1IEJULnR0Zg==.png' /><img style='width: 120px; margin: 0px; float: left;     border: 1px solid black; background: #CCC' src='./notMNIST_small/H/RGVudmVyLU1lZGl1bS5vdGY=.png' />"
      ],
      "text/plain": [
       "<IPython.core.display.HTML object>"
      ]
     },
     "metadata": {},
     "output_type": "display_data"
    },
    {
     "name": "stdout",
     "output_type": "stream",
     "text": [
      "./notMNIST_small/I\n"
     ]
    },
    {
     "data": {
      "text/html": [
       "<img style='width: 120px; margin: 0px; float: left;     border: 1px solid black; background: #CCC' src='./notMNIST_small/I/R2FsbGVyeSBDb25kZW5zZWQgTm9ybWFsLnR0Zg==.png' /><img style='width: 120px; margin: 0px; float: left;     border: 1px solid black; background: #CCC' src='./notMNIST_small/I/QnJ1c2hCUS5vdGY=.png' /><img style='width: 120px; margin: 0px; float: left;     border: 1px solid black; background: #CCC' src='./notMNIST_small/I/QmFuY29JVENTdGQtSGVhdnkub3Rm.png' /><img style='width: 120px; margin: 0px; float: left;     border: 1px solid black; background: #CCC' src='./notMNIST_small/I/SG9saWVyLm90Zg==.png' /><img style='width: 120px; margin: 0px; float: left;     border: 1px solid black; background: #CCC' src='./notMNIST_small/I/Q2hvcmQtQmxhY2tJdGFsaWMub3Rm.png' /><img style='width: 120px; margin: 0px; float: left;     border: 1px solid black; background: #CCC' src='./notMNIST_small/I/QmFkIE1vZm8udHRm.png' /><img style='width: 120px; margin: 0px; float: left;     border: 1px solid black; background: #CCC' src='./notMNIST_small/I/RG9kZ2VyIFNoYWRvdy50dGY=.png' />"
      ],
      "text/plain": [
       "<IPython.core.display.HTML object>"
      ]
     },
     "metadata": {},
     "output_type": "display_data"
    },
    {
     "name": "stdout",
     "output_type": "stream",
     "text": [
      "./notMNIST_small/J\n"
     ]
    },
    {
     "data": {
      "text/html": [
       "<img style='width: 120px; margin: 0px; float: left;     border: 1px solid black; background: #CCC' src='./notMNIST_small/J/Q2FlY2lsaWEtSGVhdnlJdGFsaWNPc0Yub3Rm.png' /><img style='width: 120px; margin: 0px; float: left;     border: 1px solid black; background: #CCC' src='./notMNIST_small/J/QlZHUGljdEVpbnMub3Rm.png' /><img style='width: 120px; margin: 0px; float: left;     border: 1px solid black; background: #CCC' src='./notMNIST_small/J/RkZGIFN0YXIgQm9sZC50dGY=.png' /><img style='width: 120px; margin: 0px; float: left;     border: 1px solid black; background: #CCC' src='./notMNIST_small/J/Q2FycmVOb2lyU3RkLUJvbGRJdGFsaWMub3Rm.png' /><img style='width: 120px; margin: 0px; float: left;     border: 1px solid black; background: #CCC' src='./notMNIST_small/J/Q3Jvbm9zUHJvLVNlbWlib2xkSXQub3Rm.png' /><img style='width: 120px; margin: 0px; float: left;     border: 1px solid black; background: #CCC' src='./notMNIST_small/J/RHJvcGxldC5vdGY=.png' /><img style='width: 120px; margin: 0px; float: left;     border: 1px solid black; background: #CCC' src='./notMNIST_small/J/Q2FydG9vbiBXaWRlLnR0Zg==.png' />"
      ],
      "text/plain": [
       "<IPython.core.display.HTML object>"
      ]
     },
     "metadata": {},
     "output_type": "display_data"
    }
   ],
   "source": [
    "show_images_from_folders(test_folders,7)"
   ]
  },
  {
   "cell_type": "markdown",
   "metadata": {
    "colab_type": "text",
    "deletable": true,
    "editable": true,
    "id": "PBdkjESPK8tw"
   },
   "source": [
    "Now let's load the data in a more manageable format. Since, depending on your computer setup you might not be able to fit it all in memory, we'll load each class into a separate dataset, store them on disk and curate them independently. Later we'll merge them into a single dataset of manageable size.\n",
    "\n",
    "We'll convert the entire dataset into a 3D array (image index, x, y) of floating point values, normalized to have approximately zero mean and standard deviation ~0.5 to make training easier down the road. \n",
    "\n",
    "A few images might not be readable, we'll just skip them."
   ]
  },
  {
   "cell_type": "code",
   "execution_count": 13,
   "metadata": {
    "cellView": "both",
    "colab": {
     "autoexec": {
      "startup": false,
      "wait_interval": 0
     },
     "output_extras": [
      {
       "item_id": 30
      }
     ]
    },
    "colab_type": "code",
    "collapsed": false,
    "deletable": true,
    "editable": true,
    "executionInfo": {
     "elapsed": 399874,
     "status": "ok",
     "timestamp": 1444485886378,
     "user": {
      "color": "#1FA15D",
      "displayName": "Vincent Vanhoucke",
      "isAnonymous": false,
      "isMe": true,
      "permissionId": "05076109866853157986",
      "photoUrl": "//lh6.googleusercontent.com/-cCJa7dTDcgQ/AAAAAAAAAAI/AAAAAAAACgw/r2EZ_8oYer4/s50-c-k-no/photo.jpg",
      "sessionId": "2a0a5e044bb03b66",
      "userId": "102167687554210253930"
     },
     "user_tz": 420
    },
    "id": "h7q0XhG3MJdf",
    "outputId": "92c391bb-86ff-431d-9ada-315568a19e59"
   },
   "outputs": [],
   "source": [
    "image_size = 28  # Pixel width and height.\n",
    "pixel_depth = 255.0  # Number of levels per pixel.\n",
    "\n",
    "def load_letter(folder, min_num_images):\n",
    "  \"\"\"Load the data for a single letter label.\"\"\"\n",
    "  image_files = os.listdir(folder)\n",
    "  dataset = np.ndarray(shape=(len(image_files), image_size, image_size),\n",
    "                         dtype=np.float32)\n",
    "  print(folder)\n",
    "  num_images = 0\n",
    "  for image in image_files:\n",
    "    image_file = os.path.join(folder, image)\n",
    "    try:\n",
    "      image_data = (ndimage.imread(image_file).astype(float) - \n",
    "                    pixel_depth / 2) / pixel_depth\n",
    "      if image_data.shape != (image_size, image_size):\n",
    "        raise Exception('Unexpected image shape: %s' % str(image_data.shape))\n",
    "      dataset[num_images, :, :] = image_data\n",
    "      num_images = num_images + 1\n",
    "    except IOError as e:\n",
    "      print('Could not read:', image_file, ':', e, '- it\\'s ok, skipping.')\n",
    "    \n",
    "  dataset = dataset[0:num_images, :, :]\n",
    "  if num_images < min_num_images:\n",
    "    raise Exception('Many fewer images than expected: %d < %d' %\n",
    "                    (num_images, min_num_images))\n",
    "    \n",
    "  print('Full dataset tensor:', dataset.shape)\n",
    "  print('Mean:', np.mean(dataset))\n",
    "  print('Standard deviation:', np.std(dataset))\n",
    "  return dataset\n",
    "        \n",
    "def maybe_pickle(data_folders, min_num_images_per_class, force=False):\n",
    "  dataset_names = []\n",
    "  for folder in data_folders:\n",
    "    set_filename = folder + '.pickle'\n",
    "    dataset_names.append(set_filename)\n",
    "    if os.path.exists(set_filename) and not force:\n",
    "      # You may override by setting force=True.\n",
    "      print('%s already present - Skipping pickling.' % set_filename)\n",
    "    else:\n",
    "      print('Pickling %s.' % set_filename)\n",
    "      dataset = load_letter(folder, min_num_images_per_class)\n",
    "      try:\n",
    "        with open(set_filename, 'wb') as f:\n",
    "          pickle.dump(dataset, f, pickle.HIGHEST_PROTOCOL)\n",
    "      except Exception as e:\n",
    "        print('Unable to save data to', set_filename, ':', e)\n",
    "  \n",
    "  return dataset_names\n"
   ]
  },
  {
   "cell_type": "code",
   "execution_count": 14,
   "metadata": {
    "collapsed": false
   },
   "outputs": [
    {
     "name": "stdout",
     "output_type": "stream",
     "text": [
      "./notMNIST_large/A.pickle already present - Skipping pickling.\n",
      "./notMNIST_large/B.pickle already present - Skipping pickling.\n",
      "./notMNIST_large/C.pickle already present - Skipping pickling.\n",
      "./notMNIST_large/D.pickle already present - Skipping pickling.\n",
      "./notMNIST_large/E.pickle already present - Skipping pickling.\n",
      "./notMNIST_large/F.pickle already present - Skipping pickling.\n",
      "./notMNIST_large/G.pickle already present - Skipping pickling.\n",
      "./notMNIST_large/H.pickle already present - Skipping pickling.\n",
      "./notMNIST_large/I.pickle already present - Skipping pickling.\n",
      "./notMNIST_large/J.pickle already present - Skipping pickling.\n"
     ]
    }
   ],
   "source": [
    "train_datasets = maybe_pickle(train_folders,45000)\n"
   ]
  },
  {
   "cell_type": "code",
   "execution_count": 15,
   "metadata": {
    "collapsed": false
   },
   "outputs": [
    {
     "name": "stdout",
     "output_type": "stream",
     "text": [
      "./notMNIST_small/A.pickle already present - Skipping pickling.\n",
      "./notMNIST_small/B.pickle already present - Skipping pickling.\n",
      "./notMNIST_small/C.pickle already present - Skipping pickling.\n",
      "./notMNIST_small/D.pickle already present - Skipping pickling.\n",
      "./notMNIST_small/E.pickle already present - Skipping pickling.\n",
      "./notMNIST_small/F.pickle already present - Skipping pickling.\n",
      "./notMNIST_small/G.pickle already present - Skipping pickling.\n",
      "./notMNIST_small/H.pickle already present - Skipping pickling.\n",
      "./notMNIST_small/I.pickle already present - Skipping pickling.\n",
      "./notMNIST_small/J.pickle already present - Skipping pickling.\n"
     ]
    }
   ],
   "source": [
    "test_datasets = maybe_pickle(test_folders, 1800)"
   ]
  },
  {
   "cell_type": "markdown",
   "metadata": {
    "colab_type": "text",
    "deletable": true,
    "editable": true,
    "id": "vUdbskYE2d87"
   },
   "source": [
    "---\n",
    "Problem 2\n",
    "---------\n",
    "\n",
    "Let's verify that the data still looks good. Displaying a sample of the labels and images from the ndarray. Hint: you can use matplotlib.pyplot.\n",
    "\n",
    "---"
   ]
  },
  {
   "cell_type": "code",
   "execution_count": 16,
   "metadata": {
    "collapsed": false,
    "deletable": true,
    "editable": true
   },
   "outputs": [],
   "source": [
    "def load_pickle (pickle_file):\n",
    "    \"\"\" Load and return any saved pickle \"\"\"\n",
    "    try:\n",
    "      with open(pickle_file, 'rb') as f:\n",
    "        pickle_ = pickle.load(f)\n",
    "      return pickle_\n",
    "    except Exception as e:\n",
    "      print('Unable to load pickle data from', pickle_file)\n",
    "\n",
    "def load_pickles (pickle_set):\n",
    "    \"\"\" Return a list of numpy array from img pickle data \"\"\"\n",
    "    return [load_pickle(v_) for v_ in pickle_set]\n",
    "\n",
    "def show_letters(datasets):\n",
    "    \"\"\"Load and plot images of one random pickle image from each dataset \"\"\"\n",
    "    fig_ = plt.figure(figsize=(15,5))\n",
    "    for i,v_ in  enumerate(datasets):\n",
    "        pickArr = load_pickle(v_)\n",
    "        pos_ = np.random.choice(pickArr.shape[0],replace=False)\n",
    "        #plt.subplot(2,5,i+1)\n",
    "        fig_.add_subplot(2,5,i+1).imshow(pickArr[pos_,:,:])\n",
    "        plt.axis('off')"
   ]
  },
  {
   "cell_type": "code",
   "execution_count": 17,
   "metadata": {
    "collapsed": false,
    "deletable": true,
    "editable": true
   },
   "outputs": [
    {
     "data": {
      "image/png": "[encoded data removed]",
      "text/plain": [
       "<matplotlib.figure.Figure at 0x7f674a636390>"
      ]
     },
     "metadata": {},
     "output_type": "display_data"
    }
   ],
   "source": [
    "show_letters(train_datasets)"
   ]
  },
  {
   "cell_type": "code",
   "execution_count": 18,
   "metadata": {
    "collapsed": false,
    "deletable": true,
    "editable": true
   },
   "outputs": [
    {
     "data": {
      "image/png": "[encoded data removed]",
      "text/plain": [
       "<matplotlib.figure.Figure at 0x7f6746cbab50>"
      ]
     },
     "metadata": {},
     "output_type": "display_data"
    }
   ],
   "source": [
    "show_letters(test_datasets)"
   ]
  },
  {
   "cell_type": "markdown",
   "metadata": {
    "colab_type": "text",
    "deletable": true,
    "editable": true,
    "id": "cYznx5jUwzoO"
   },
   "source": [
    "---\n",
    "Problem 3\n",
    "---------\n",
    "Another check: we expect the data to be balanced across classes. Verify that.\n",
    "\n",
    "---"
   ]
  },
  {
   "cell_type": "code",
   "execution_count": 19,
   "metadata": {
    "collapsed": false,
    "deletable": true,
    "editable": true
   },
   "outputs": [
    {
     "name": "stdout",
     "output_type": "stream",
     "text": [
      "mean:  52911.4 \n",
      "Std:  0.916515138991\n"
     ]
    }
   ],
   "source": [
    "#sys.stdout.flush()\n",
    "all_picklArr = load_pickles(train_datasets)\n",
    "std_ = np.std(np.array([ d_.shape[0] for d_ in all_picklArr]))\n",
    "mean_ = np.mean(np.array([ d_.shape[0] for d_ in all_picklArr]))\n",
    "print ('mean: ',mean_, '\\nStd: ', std_)"
   ]
  },
  {
   "cell_type": "markdown",
   "metadata": {
    "colab_type": "text",
    "deletable": true,
    "editable": true,
    "id": "LA7M7K22ynCt"
   },
   "source": [
    "Merge and prune the training data as needed. Depending on your computer setup, you might not be able to fit it all in memory, and you can tune `train_size` as needed. The labels will be stored into a separate array of integers 0 through 9.\n",
    "\n",
    "Also create a validation dataset for hyperparameter tuning."
   ]
  },
  {
   "cell_type": "code",
   "execution_count": 20,
   "metadata": {
    "cellView": "both",
    "colab": {
     "autoexec": {
      "startup": false,
      "wait_interval": 0
     },
     "output_extras": [
      {
       "item_id": 1
      }
     ]
    },
    "colab_type": "code",
    "collapsed": false,
    "deletable": true,
    "editable": true,
    "executionInfo": {
     "elapsed": 411281,
     "status": "ok",
     "timestamp": 1444485897869,
     "user": {
      "color": "#1FA15D",
      "displayName": "Vincent Vanhoucke",
      "isAnonymous": false,
      "isMe": true,
      "permissionId": "05076109866853157986",
      "photoUrl": "//lh6.googleusercontent.com/-cCJa7dTDcgQ/AAAAAAAAAAI/AAAAAAAACgw/r2EZ_8oYer4/s50-c-k-no/photo.jpg",
      "sessionId": "2a0a5e044bb03b66",
      "userId": "102167687554210253930"
     },
     "user_tz": 420
    },
    "id": "s3mWgZLpyuzq",
    "outputId": "8af66da6-902d-4719-bedc-7c9fb7ae7948",
    "scrolled": true
   },
   "outputs": [],
   "source": [
    "def make_arrays(nb_rows, img_size):\n",
    "  if nb_rows:\n",
    "    dataset = np.ndarray((nb_rows, img_size, img_size), dtype=np.float32)\n",
    "    labels = np.ndarray(nb_rows, dtype=np.int32)\n",
    "  else:\n",
    "    dataset, labels = None, None\n",
    "  return dataset, labels\n",
    "\n",
    "def merge_datasets(pickle_files, train_size, valid_size=0):\n",
    "  num_classes = len(pickle_files)\n",
    "  valid_dataset, valid_labels = make_arrays(valid_size, image_size)\n",
    "  train_dataset, train_labels = make_arrays(train_size, image_size)\n",
    "  vsize_per_class = valid_size // num_classes\n",
    "  tsize_per_class = train_size // num_classes\n",
    "    \n",
    "  start_v, start_t = 0, 0\n",
    "  end_v, end_t = vsize_per_class, tsize_per_class\n",
    "  end_l = vsize_per_class+tsize_per_class\n",
    "  for label, pickle_file in enumerate(pickle_files):       \n",
    "    try:\n",
    "      with open(pickle_file, 'rb') as f:\n",
    "        letter_set = pickle.load(f)\n",
    "        # let's shuffle the letters to have random validation and training set\n",
    "        np.random.shuffle(letter_set)\n",
    "        if valid_dataset is not None:\n",
    "          valid_letter = letter_set[:vsize_per_class, :, :]\n",
    "          valid_dataset[start_v:end_v, :, :] = valid_letter\n",
    "          valid_labels[start_v:end_v] = label\n",
    "          start_v += vsize_per_class\n",
    "          end_v += vsize_per_class\n",
    "                    \n",
    "        train_letter = letter_set[vsize_per_class:end_l, :, :]\n",
    "        train_dataset[start_t:end_t, :, :] = train_letter\n",
    "        train_labels[start_t:end_t] = label\n",
    "        start_t += tsize_per_class\n",
    "        end_t += tsize_per_class\n",
    "    except Exception as e:\n",
    "      print('Unable to process data from', pickle_file, ':', e)\n",
    "      raise\n",
    "    \n",
    "  return valid_dataset, valid_labels, train_dataset, train_labels\n",
    "            \n"
   ]
  },
  {
   "cell_type": "code",
   "execution_count": 21,
   "metadata": {
    "collapsed": false
   },
   "outputs": [
    {
     "name": "stdout",
     "output_type": "stream",
     "text": [
      "Training: (200000, 28, 28) (200000,)\n",
      "Validation: (10000, 28, 28) (10000,)\n",
      "Testing: (10000, 28, 28) (10000,)\n"
     ]
    }
   ],
   "source": [
    "train_size = 200000\n",
    "valid_size = 10000\n",
    "test_size = 10000\n",
    "\n",
    "valid_dataset, valid_labels, train_dataset, train_labels = merge_datasets(train_datasets, train_size, valid_size)\n",
    "_, _, test_dataset, test_labels = merge_datasets(test_datasets, test_size)\n",
    "\n",
    "print('Training:', train_dataset.shape, train_labels.shape)\n",
    "print('Validation:', valid_dataset.shape, valid_labels.shape)\n",
    "print('Testing:', test_dataset.shape, test_labels.shape)"
   ]
  },
  {
   "cell_type": "markdown",
   "metadata": {
    "colab_type": "text",
    "deletable": true,
    "editable": true,
    "id": "GPTCnjIcyuKN"
   },
   "source": [
    "Next, we'll randomize the data. It's important to have the labels well shuffled for the training and test distributions to match."
   ]
  },
  {
   "cell_type": "code",
   "execution_count": 22,
   "metadata": {
    "cellView": "both",
    "colab": {
     "autoexec": {
      "startup": false,
      "wait_interval": 0
     }
    },
    "colab_type": "code",
    "collapsed": false,
    "deletable": true,
    "editable": true,
    "id": "6WZ2l2tN2zOL"
   },
   "outputs": [],
   "source": [
    "def randomize(dataset, labels):\n",
    "  permutation = np.random.permutation(labels.shape[0])\n",
    "  shuffled_dataset = dataset[permutation,:,:]\n",
    "  shuffled_labels = labels[permutation]\n",
    "  return shuffled_dataset, shuffled_labels\n",
    "train_dataset, train_labels = randomize(train_dataset, train_labels)\n",
    "test_dataset, test_labels = randomize(test_dataset, test_labels)\n",
    "valid_dataset, valid_labels = randomize(valid_dataset, valid_labels)"
   ]
  },
  {
   "cell_type": "markdown",
   "metadata": {
    "colab_type": "text",
    "deletable": true,
    "editable": true,
    "id": "puDUTe6t6USl"
   },
   "source": [
    "---\n",
    "Problem 4\n",
    "---------\n",
    "Convince yourself that the data is still good after shuffling!\n",
    "\n",
    "---"
   ]
  },
  {
   "cell_type": "code",
   "execution_count": 23,
   "metadata": {
    "collapsed": false,
    "deletable": true,
    "editable": true
   },
   "outputs": [],
   "source": [
    "def show_10randomized_letters(trainset,labelset):\n",
    "    \"\"\" Show 10 letters from randomized data based on labelset \"\"\"\n",
    "    A_J = np.array(list(map(chr,range(ord('A'),ord('J')+1)))) #python3 \n",
    "    lbl_i = np.random.choice(len(labelset),10,replace=False)\n",
    "    print(dict(zip(labelset[lbl_i]+1, A_J[labelset[lbl_i]])))\n",
    "    fig_ = plt.figure(figsize=(15,5))\n",
    "    for i,v_ in  enumerate(lbl_i):\n",
    "        #plt.subplot(2,5,i+1)\n",
    "        fig_.add_subplot(2,5,i+1).set_title(A_J[labelset[v_]])\n",
    "        plt.imshow(trainset[v_,:,:])\n",
    "        plt.axis('off')\n",
    "        "
   ]
  },
  {
   "cell_type": "code",
   "execution_count": 24,
   "metadata": {
    "collapsed": false,
    "deletable": true,
    "editable": true
   },
   "outputs": [
    {
     "name": "stdout",
     "output_type": "stream",
     "text": [
      "{1: 'A', 2: 'B', 4: 'D', 5: 'E', 8: 'H', 9: 'I'}\n"
     ]
    },
    {
     "data": {
      "image/png": "[encoded data removed]",
      "text/plain": [
       "<matplotlib.figure.Figure at 0x7f6746d3e050>"
      ]
     },
     "metadata": {},
     "output_type": "display_data"
    }
   ],
   "source": [
    "show_10randomized_letters(train_dataset,train_labels)"
   ]
  },
  {
   "cell_type": "code",
   "execution_count": 25,
   "metadata": {
    "collapsed": false,
    "deletable": true,
    "editable": true
   },
   "outputs": [
    {
     "name": "stdout",
     "output_type": "stream",
     "text": [
      "{9: 'I', 10: 'J', 5: 'E', 6: 'F', 1: 'A'}\n"
     ]
    },
    {
     "data": {
      "image/png": "[encoded data removed]",
      "text/plain": [
       "<matplotlib.figure.Figure at 0x7f6746d3e450>"
      ]
     },
     "metadata": {},
     "output_type": "display_data"
    }
   ],
   "source": [
    "show_10randomized_letters(test_dataset,test_labels)"
   ]
  },
  {
   "cell_type": "code",
   "execution_count": 26,
   "metadata": {
    "collapsed": false,
    "deletable": true,
    "editable": true
   },
   "outputs": [
    {
     "name": "stdout",
     "output_type": "stream",
     "text": [
      "{1: 'A', 2: 'B', 3: 'C', 4: 'D', 5: 'E', 6: 'F', 9: 'I', 10: 'J'}\n"
     ]
    },
    {
     "data": {
      "image/png": "[encoded data removed]",
      "text/plain": [
       "<matplotlib.figure.Figure at 0x7f6746757810>"
      ]
     },
     "metadata": {},
     "output_type": "display_data"
    }
   ],
   "source": [
    "show_10randomized_letters(valid_dataset,valid_labels)"
   ]
  },
  {
   "cell_type": "markdown",
   "metadata": {
    "colab_type": "text",
    "deletable": true,
    "editable": true,
    "id": "tIQJaJuwg5Hw"
   },
   "source": [
    "Finally, let's save the data for later reuse:"
   ]
  },
  {
   "cell_type": "code",
   "execution_count": 27,
   "metadata": {
    "cellView": "both",
    "colab": {
     "autoexec": {
      "startup": false,
      "wait_interval": 0
     }
    },
    "colab_type": "code",
    "collapsed": false,
    "deletable": true,
    "editable": true,
    "id": "QiR_rETzem6C"
   },
   "outputs": [],
   "source": [
    "pickle_file = os.path.join(data_root, 'notMNIST.pickle')\n",
    "\n",
    "try:\n",
    "  f = open(pickle_file, 'wb')\n",
    "  save = {\n",
    "    'train_dataset': train_dataset,\n",
    "    'train_labels': train_labels,\n",
    "    'valid_dataset': valid_dataset,\n",
    "    'valid_labels': valid_labels,\n",
    "    'test_dataset': test_dataset,\n",
    "    'test_labels': test_labels,\n",
    "    }\n",
    "  pickle.dump(save, f, pickle.HIGHEST_PROTOCOL)\n",
    "  f.close()\n",
    "except Exception as e:\n",
    "  print('Unable to save data to', pickle_file, ':', e)\n",
    "  raise"
   ]
  },
  {
   "cell_type": "code",
   "execution_count": 28,
   "metadata": {
    "cellView": "both",
    "colab": {
     "autoexec": {
      "startup": false,
      "wait_interval": 0
     },
     "output_extras": [
      {
       "item_id": 1
      }
     ]
    },
    "colab_type": "code",
    "collapsed": false,
    "deletable": true,
    "editable": true,
    "executionInfo": {
     "elapsed": 413065,
     "status": "ok",
     "timestamp": 1444485899688,
     "user": {
      "color": "#1FA15D",
      "displayName": "Vincent Vanhoucke",
      "isAnonymous": false,
      "isMe": true,
      "permissionId": "05076109866853157986",
      "photoUrl": "//lh6.googleusercontent.com/-cCJa7dTDcgQ/AAAAAAAAAAI/AAAAAAAACgw/r2EZ_8oYer4/s50-c-k-no/photo.jpg",
      "sessionId": "2a0a5e044bb03b66",
      "userId": "102167687554210253930"
     },
     "user_tz": 420
    },
    "id": "hQbLjrW_iT39",
    "outputId": "b440efc6-5ee1-4cbc-d02d-93db44ebd956",
    "scrolled": true
   },
   "outputs": [
    {
     "name": "stdout",
     "output_type": "stream",
     "text": [
      "Compressed pickle size: 690800441\n"
     ]
    }
   ],
   "source": [
    "pickle_file = os.path.join(data_root, 'notMNIST.pickle')\n",
    "statinfo = os.stat(pickle_file)\n",
    "print('Compressed pickle size:', statinfo.st_size)"
   ]
  },
  {
   "cell_type": "code",
   "execution_count": 29,
   "metadata": {
    "collapsed": false,
    "deletable": true,
    "editable": true
   },
   "outputs": [
    {
     "data": {
      "text/plain": [
       "['train_labels',\n",
       " 'valid_labels',\n",
       " 'test_labels',\n",
       " 'test_dataset',\n",
       " 'train_dataset',\n",
       " 'valid_dataset']"
      ]
     },
     "execution_count": 29,
     "metadata": {},
     "output_type": "execute_result"
    }
   ],
   "source": [
    "#load previously saved pickle data\n",
    "saved = load_pickle('./notMNIST.pickle')\n",
    "saved.keys()"
   ]
  },
  {
   "cell_type": "code",
   "execution_count": 30,
   "metadata": {
    "collapsed": false,
    "deletable": true,
    "editable": true
   },
   "outputs": [],
   "source": [
    "train_labels = saved['train_labels']\n",
    "test_labels = saved['test_labels']\n",
    "valid_labels = saved['valid_labels']\n",
    "test_dataset = saved['test_dataset']\n",
    "train_dataset = saved['train_dataset']\n",
    "valid_dataset = saved['valid_dataset']\n",
    "del saved"
   ]
  },
  {
   "cell_type": "markdown",
   "metadata": {
    "colab_type": "text",
    "deletable": true,
    "editable": true,
    "id": "gE_cRAQB33lk"
   },
   "source": [
    "---\n",
    "Problem 5\n",
    "---------\n",
    "\n",
    "By construction, this dataset might contain a lot of overlapping samples, including training data that's also contained in the validation and test set! Overlap between training and test can skew the results if you expect to use your model in an environment where there is never an overlap, but are actually ok if you expect to see training samples recur when you use it.\n",
    "Measure how much overlap there is between training, validation and test samples.\n",
    "\n",
    "Optional questions:\n",
    "- What about near duplicates between datasets? (images that are almost identical)\n",
    "- Create a sanitized validation and test set, and compare your accuracy on those in subsequent assignments.\n",
    "---"
   ]
  },
  {
   "cell_type": "code",
   "execution_count": 31,
   "metadata": {
    "collapsed": false,
    "deletable": true,
    "editable": true
   },
   "outputs": [],
   "source": [
    "def show_dup_image(arr1,arr2,dup_dict):\n",
    "    \"\"\" \n",
    "    compare images from 2d numpy array\n",
    "    dup_dict is the mapping(k,v) of id in arr1 mapped to their duplicated v in arr2\n",
    "    \"\"\"\n",
    "    dup_k = np.random.choice(dup_dict.keys(),replace=False)\n",
    "    dup_v= dup_dict[dup_k]\n",
    "    choice_= np.random.choice(dup_v, min(4,len(dup_v)),replace=False )\n",
    "    all_arr = np.concatenate( (arr1[dup_k:dup_k+1 ], arr2[ choice_ ]) ) \n",
    "    # plot\n",
    "    plt.figure(figsize=(15,3))\n",
    "    plt.suptitle('duplicate of '+str(dup_k))\n",
    "    for i,arr_v in enumerate(all_arr):\n",
    "        plt.subplot(1,5,i+1)\n",
    "        plt.imshow(arr_v);\n",
    "        plt.axis('off')\n",
    "\n",
    "\n",
    "\n",
    "#np.array_equiv(train_dataset,train_dat\n",
    "\n",
    "def find_overlaps(arr1, arr2):\n",
    "    \"\"\"loop over arr1_3d then find where array_equal arr2_3d \"\"\"\n",
    "    overlaps = {}\n",
    "    for i, arr2d1 in enumerate(arr1):\n",
    "        for j, arr2d2 in enumerate(arr2):\n",
    "            if (np.array_equal(arr2d1,arr2d2)):\n",
    "                if(not i in overlaps.keys()): overlaps[i]=[]\n",
    "                overlaps[i].append(j)\n",
    "    return overlaps\n",
    "\n",
    "\n",
    "def find_duplicated(arr):\n",
    "    \"\"\"find duplicated arr2d values from arr3d in the same dataset 3d \"\"\"\n",
    "    dup=[]\n",
    "    overlaps = {}\n",
    "    for i, arr2d1 in enumerate(arr):\n",
    "        if(i in dup): continue\n",
    "        for j, arr2d2 in enumerate(arr):\n",
    "            if(j in dup or i>=j): continue\n",
    "            if (np.array_equal(arr2d1,arr2d2)):\n",
    "                if(not i in overlaps.keys()): overlaps[i]=[]\n",
    "                dup.append(j)\n",
    "                overlaps[i].append(j)\n",
    "    return dup, overlaps"
   ]
  },
  {
   "cell_type": "code",
   "execution_count": 32,
   "metadata": {
    "collapsed": false,
    "deletable": true,
    "editable": true
   },
   "outputs": [
    {
     "name": "stdout",
     "output_type": "stream",
     "text": [
      "CPU times: user 6min 31s, sys: 8 ms, total: 6min 31s\n",
      "Wall time: 6min 31s\n"
     ]
    }
   ],
   "source": [
    "#%time over_lap = find_overlaps(train_dataset[0:1000],test_dataset)\n",
    "%time dupsmple, dupmap = find_duplicated(test_dataset)\n"
   ]
  },
  {
   "cell_type": "markdown",
   "metadata": {
    "deletable": true,
    "editable": true
   },
   "source": [
    "This naive method is very slow... using hashing trick\n",
    "of hashlib and set properties may be superfast enough\n",
    "but collision is possible but at least all duplicates will be found."
   ]
  },
  {
   "cell_type": "code",
   "execution_count": 33,
   "metadata": {
    "collapsed": false,
    "deletable": true,
    "editable": true
   },
   "outputs": [
    {
     "name": "stdout",
     "output_type": "stream",
     "text": [
      "Total number having a duplicated values:  67\n",
      "Total extra duplicated values:  195\n"
     ]
    },
    {
     "data": {
      "image/png": "[encoded data removed]",
      "text/plain": [
       "<matplotlib.figure.Figure at 0x7f6746d79710>"
      ]
     },
     "metadata": {},
     "output_type": "display_data"
    }
   ],
   "source": [
    "#Show duplicated using naive approach\n",
    "show_dup_image(test_dataset,test_dataset,dupmap)\n",
    "print('Total number having a duplicated values: ',len(dupmap.keys()))\n",
    "print('Total extra duplicated values: ',len(dupsmple))"
   ]
  },
  {
   "cell_type": "code",
   "execution_count": 34,
   "metadata": {
    "collapsed": false,
    "deletable": true,
    "editable": true
   },
   "outputs": [
    {
     "name": "stdout",
     "output_type": "stream",
     "text": [
      "CPU times: user 1.26 s, sys: 0 ns, total: 1.26 s\n",
      "Wall time: 1.26 s\n",
      "CPU times: user 64 ms, sys: 0 ns, total: 64 ms\n",
      "Wall time: 65.2 ms\n",
      "CPU times: user 64 ms, sys: 0 ns, total: 64 ms\n",
      "Wall time: 64.9 ms\n",
      "train_dataset has  200000  samples\n",
      "test_dataset has  10000  samples\n",
      "valid_dataset has  10000  samples\n"
     ]
    }
   ],
   "source": [
    "from  hashlib import md5, sha512\n",
    "%time hash_train_set = set([ sha512(v).hexdigest() for v in train_dataset])\n",
    "%time hash_test_set = set([ sha512(v).hexdigest() for v in test_dataset])\n",
    "%time hash_valid_set =set([sha512(v).hexdigest() for v in valid_dataset])\n",
    "print('train_dataset has ',len(train_dataset),' samples')\n",
    "print('test_dataset has ',len(test_dataset), ' samples')\n",
    "print('valid_dataset has ',len(valid_dataset), ' samples')"
   ]
  },
  {
   "cell_type": "code",
   "execution_count": 35,
   "metadata": {
    "collapsed": false,
    "deletable": true,
    "editable": true,
    "scrolled": true
   },
   "outputs": [
    {
     "name": "stdout",
     "output_type": "stream",
     "text": [
      "hash_test_set:  9805 | test_dataset  10000\n",
      "hash_train_set:  187318 | train_dataset  200000\n",
      "hash_valid_set:  9858 | valid_dataset  10000\n"
     ]
    }
   ],
   "source": [
    "print ('hash_test_set: ',len(hash_test_set),'| test_dataset ',len(test_dataset))\n",
    "print ('hash_train_set: ',len(hash_train_set),'| train_dataset ',len(train_dataset))\n",
    "print ('hash_valid_set: ',len(hash_valid_set),'| valid_dataset ',len(valid_dataset))"
   ]
  },
  {
   "cell_type": "code",
   "execution_count": 36,
   "metadata": {
    "collapsed": false,
    "deletable": true,
    "editable": true
   },
   "outputs": [
    {
     "name": "stdout",
     "output_type": "stream",
     "text": [
      "overlapTESTvsVALID  60\n",
      "overlapTESTvsTRAIN  1168\n",
      "overlapVALIDvsTRAIN  974\n"
     ]
    }
   ],
   "source": [
    "#LOOK INTERSECTIONS OR OVERLAPS\n",
    "overlap_test_vs_valid = hash_test_set & hash_valid_set\n",
    "print ('overlapTESTvsVALID ',len(overlap_test_vs_valid))\n",
    "overlap_test_vs_train = hash_test_set & hash_train_set\n",
    "print ('overlapTESTvsTRAIN ',len(overlap_test_vs_train))\n",
    "overlap_valid_vs_train = hash_valid_set & hash_train_set\n",
    "print ('overlapVALIDvsTRAIN ',len(overlap_valid_vs_train))"
   ]
  },
  {
   "cell_type": "markdown",
   "metadata": {
    "colab_type": "text",
    "deletable": true,
    "editable": true,
    "id": "L8oww1s4JMQx"
   },
   "source": [
    "---\n",
    "Problem 6\n",
    "---------\n",
    "\n",
    "Let's get an idea of what an off-the-shelf classifier can give you on this data. It's always good to check that there is something to learn, and that it's a problem that is not so trivial that a canned solution solves it.\n",
    "\n",
    "Train a simple model on this data using 50, 100, 1000 and 5000 training samples. Hint: you can use the LogisticRegression model from sklearn.linear_model.\n",
    "\n",
    "Optional question: train an off-the-shelf model on all the data!\n",
    "\n",
    "---"
   ]
  },
  {
   "cell_type": "code",
   "execution_count": 37,
   "metadata": {
    "collapsed": false,
    "deletable": true,
    "editable": true
   },
   "outputs": [],
   "source": [
    "#PREPARE DATA FIRST\n",
    "train_dataset50 = train_dataset[:50].reshape((-1,28*28))\n",
    "train_dataset100 = train_dataset[:100].reshape((-1,28*28))\n",
    "train_dataset1000 = train_dataset[:1000].reshape((-1,28*28))\n",
    "train_dataset5000 = train_dataset[:5000].reshape((-1,28*28))\n",
    "y_train50 = train_labels[:50]\n",
    "y_train100 = train_labels[:100]\n",
    "y_train1000 = train_labels[:1000]\n",
    "y_train5000 = train_labels[:5000]\n",
    "\n",
    "#now reshape test and valid dataset\n",
    "test_d = test_dataset.reshape((-1,28*28))\n",
    "valid_d = valid_dataset.reshape((-1,28*28))\n"
   ]
  },
  {
   "cell_type": "code",
   "execution_count": 38,
   "metadata": {
    "collapsed": false
   },
   "outputs": [
    {
     "name": "stdout",
     "output_type": "stream",
     "text": [
      "Score Model 50 for test data  0.6109\n",
      "Score Model 100 for test data  0.6895\n",
      "Score Model 1000 for test data  0.8369\n",
      "Score Model 5000 for test data  0.8558\n"
     ]
    }
   ],
   "source": [
    "#LEARN BASIC LOGISTIC REGRESSION USING SKLEARN\n",
    "lreg = LogisticRegression()\n",
    "print ( 'Score Model 50 for test data ',lreg.fit(train_dataset50,y_train50).score(test_d,test_labels) )\n",
    "print ( 'Score Model 100 for test data ',lreg.fit(train_dataset100,y_train100).score(test_d,test_labels) )\n",
    "print ( 'Score Model 1000 for test data ',lreg.fit(train_dataset1000,y_train1000).score(test_d,test_labels) )\n",
    "print ( 'Score Model 5000 for test data ',lreg.fit(train_dataset5000,y_train5000).score(test_d,test_labels) )\n"
   ]
  },
  {
   "cell_type": "code",
   "execution_count": 39,
   "metadata": {
    "collapsed": false
   },
   "outputs": [
    {
     "name": "stdout",
     "output_type": "stream",
     "text": [
      "Score Model 50 for valid data  0.5581\n",
      "Score Model 100 for valid data  0.6332\n",
      "Score Model 1000 for valid data  0.7596\n",
      "Score Model 5000 for valid data  0.779\n"
     ]
    }
   ],
   "source": [
    "print ( 'Score Model 50 for valid data ',lreg.fit(train_dataset50,y_train50).score(valid_d,valid_labels) )\n",
    "print ( 'Score Model 100 for valid data ',lreg.fit(train_dataset100,y_train100).score(valid_d,valid_labels) )\n",
    "print ( 'Score Model 1000 for valid data ',lreg.fit(train_dataset1000,y_train1000).score(valid_d,valid_labels) )\n",
    "print ( 'Score Model 5000 for valid data ',lreg.fit(train_dataset5000,y_train5000).score(valid_d,valid_labels) )"
   ]
  },
  {
   "cell_type": "code",
   "execution_count": 45,
   "metadata": {
    "collapsed": false,
    "scrolled": true
   },
   "outputs": [
    {
     "name": "stdout",
     "output_type": "stream",
     "text": [
      "Score Model full for valid data  0.826\n"
     ]
    }
   ],
   "source": [
    "#Look score for full model\n",
    "model_full = lreg.fit(train_dataset.reshape((-1,28*28)),train_labels)\n",
    "print ( 'Score Model full for valid data ',model_full.score(valid_d,valid_labels) )\n"
   ]
  }
 ],
 "metadata": {
  "anaconda-cloud": {},
  "colab": {
   "default_view": {},
   "name": "1_notmnist.ipynb",
   "provenance": [],
   "version": "0.3.2",
   "views": {}
  },
  "kernelspec": {
   "display_name": "Python [conda root]",
   "language": "python",
   "name": "conda-root-py"
  },
  "language_info": {
   "codemirror_mode": {
    "name": "ipython",
    "version": 2
   },
   "file_extension": ".py",
   "mimetype": "text/x-python",
   "name": "python",
   "nbconvert_exporter": "python",
   "pygments_lexer": "ipython2",
   "version": "2.7.13"
  }
 },
 "nbformat": 4,
 "nbformat_minor": 0
}
